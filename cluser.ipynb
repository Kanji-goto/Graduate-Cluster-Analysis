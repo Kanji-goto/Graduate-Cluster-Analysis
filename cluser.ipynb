{
 "cells": [
  {
   "cell_type": "code",
   "execution_count": 41,
   "id": "a53e39f4-3f49-4af5-9f5c-5b9049e929e7",
   "metadata": {},
   "outputs": [],
   "source": [
    "%matplotlib inline\n",
    "import numpy as np\n",
    "import pandas as pd\n",
    "import matplotlib.pyplot as plt\n",
    "from sklearn.datasets import make_blobs\n",
    "from keras.utils import np_utils \n",
    "import tqdm\n",
    "from sklearn.utils import check_array, check_random_state\n",
    "from sklearn.utils import shuffle"
   ]
  },
  {
   "cell_type": "code",
   "execution_count": 32,
   "id": "ae5033f7-cf41-4f49-90d9-dc5db0c9288d",
   "metadata": {},
   "outputs": [],
   "source": [
